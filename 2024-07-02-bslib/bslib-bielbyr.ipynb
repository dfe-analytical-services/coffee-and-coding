{
  "cells": [
    {
      "cell_type": "raw",
      "metadata": {},
      "source": [
        "---\n",
        "title: \"The bslib R package for creating Shiny dashboards\"\n",
        "title-slide-attributes:\n",
        "  data-background-position: top\n",
        "  data-background-image: title-screen-package-logos.png\n",
        "  data-background-size: contain\n",
        "  data-background-opacity: \"1\"\n",
        "subtitle: \"DfE Coffee and Coding\"\n",
        "author: \"Rich Bielby, Statistics Development Team\"\n",
        "institute: Department for Education\n",
        "format:\n",
        "  revealjs: \n",
        "    theme: [dark, custom.scss]\n",
        "    width: 120%\n",
        "    height: 120%\n",
        "    logo: DfE_logo_landscape.png\n",
        "---"
      ],
      "id": "da207a66"
    },
    {
      "cell_type": "markdown",
      "metadata": {},
      "source": [
        "## The bslib R package\n",
        "\n",
        ":::: {.columns}\n",
        "::: {.column width=\"70%\"}\n",
        "The Statistics Development Team are developing packages for use in R to support the analytical community in having common useful functions readily available for their work. \n",
        "\n",
        "They're published on the [DfE Analytical Services GitHub page](https://github.com/dfe-analytical-services) and are ready to use.\n",
        "\n",
        "In this coffee and coding, I'll give a brief introduction to what the scope of these packages is, how to install them, demo some of their functionality and tell you how you can help!\n",
        "\n",
        ":::\n",
        "::: {.column width=\"30%\"}\n",
        "[![](dfe-analytical-services.png){fig-align=\"right\"}](https://github.com/dfe-analytical-services)\n",
        ":::\n",
        "::::\n",
        "\n",
        "## A brief intro into Shiny UIs\n",
        "\n",
        "\n",
        "```{html}\n",
        "<label for=\"name\">Name (4 to 8 characters):</label>\n",
        "\n",
        "<input type=\"text\" id=\"name\" name=\"name\" required minlength=\"4\" maxlength=\"8\" size=\"10\" />\n",
        "\n",
        "```"
      ],
      "id": "d43f7123"
    }
  ],
  "metadata": {
    "kernelspec": {
      "display_name": "Python 3",
      "language": "python",
      "name": "python3"
    }
  },
  "nbformat": 4,
  "nbformat_minor": 5
}